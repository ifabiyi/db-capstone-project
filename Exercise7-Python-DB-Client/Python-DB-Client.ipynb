{
 "cells": [
  {
   "cell_type": "code",
   "execution_count": 1,
   "id": "ca6b26a7",
   "metadata": {},
   "outputs": [
    {
     "name": "stdout",
     "output_type": "stream",
     "text": [
      "Python 3.10.6\r\n"
     ]
    }
   ],
   "source": [
    "!python --version"
   ]
  },
  {
   "cell_type": "code",
   "execution_count": 2,
   "id": "bb6b3f4b",
   "metadata": {
    "scrolled": true
   },
   "outputs": [
    {
     "name": "stdout",
     "output_type": "stream",
     "text": [
      "pip 22.0.2 from /home/ilya/Repos/Meta-BackEnd-Developer/Capstone/workspace/lib/python3.10/site-packages/pip (python 3.10)\r\n"
     ]
    }
   ],
   "source": [
    "!pip --version"
   ]
  },
  {
   "cell_type": "code",
   "execution_count": 3,
   "id": "d63a2770",
   "metadata": {},
   "outputs": [
    {
     "name": "stdout",
     "output_type": "stream",
     "text": [
      "Selected Jupyter core packages...\n",
      "IPython          : 8.14.0\n",
      "ipykernel        : 6.24.0\n",
      "ipywidgets       : 8.0.7\n",
      "jupyter_client   : 8.3.0\n",
      "jupyter_core     : 5.3.1\n",
      "jupyter_server   : 2.7.0\n",
      "jupyterlab       : not installed\n",
      "nbclient         : 0.8.0\n",
      "nbconvert        : 7.6.0\n",
      "nbformat         : 5.9.0\n",
      "notebook         : 6.5.4\n",
      "qtconsole        : 5.4.3\n",
      "traitlets        : 5.9.0\n"
     ]
    }
   ],
   "source": [
    "!jupyter --version"
   ]
  },
  {
   "cell_type": "code",
   "execution_count": 4,
   "id": "46d21b42",
   "metadata": {},
   "outputs": [
    {
     "name": "stdout",
     "output_type": "stream",
     "text": [
      "Requirement already satisfied: mysql-connector-python in /home/ilya/Repos/Meta-BackEnd-Developer/Capstone/workspace/lib/python3.10/site-packages (8.0.33)\r\n",
      "Requirement already satisfied: protobuf<=3.20.3,>=3.11.0 in /home/ilya/Repos/Meta-BackEnd-Developer/Capstone/workspace/lib/python3.10/site-packages (from mysql-connector-python) (3.20.3)\r\n"
     ]
    }
   ],
   "source": [
    "!pip install mysql-connector-python"
   ]
  },
  {
   "cell_type": "code",
   "execution_count": 5,
   "id": "37cb50c1",
   "metadata": {},
   "outputs": [],
   "source": [
    "import mysql.connector as connector"
   ]
  },
  {
   "cell_type": "markdown",
   "id": "e3d19ed1",
   "metadata": {},
   "source": [
    "### Enter Your Own MySQL user/password/db:"
   ]
  },
  {
   "cell_type": "code",
   "execution_count": 6,
   "id": "0c551372",
   "metadata": {},
   "outputs": [],
   "source": [
    "db_config = {\n",
    "    \"user\" : \"db_client\",\n",
    "    \"password\" : \"password\",\n",
    "    \"db\": \"LittleLemonDB\",\n",
    "}"
   ]
  },
  {
   "cell_type": "code",
   "execution_count": 7,
   "id": "ab68acf5",
   "metadata": {},
   "outputs": [],
   "source": [
    "connection = connector.connect(**db_config)\n"
   ]
  },
  {
   "cell_type": "code",
   "execution_count": 8,
   "id": "00dca5da",
   "metadata": {},
   "outputs": [],
   "source": [
    "cursor = connection.cursor()"
   ]
  },
  {
   "cell_type": "code",
   "execution_count": 9,
   "id": "9cbea78f",
   "metadata": {},
   "outputs": [],
   "source": [
    "show_tables_query = \"SHOW tables\" \n",
    "cursor.execute(show_tables_query)"
   ]
  },
  {
   "cell_type": "code",
   "execution_count": 10,
   "id": "d214ccb8",
   "metadata": {},
   "outputs": [],
   "source": [
    "results = cursor.fetchall()"
   ]
  },
  {
   "cell_type": "code",
   "execution_count": 11,
   "id": "d51ff97d",
   "metadata": {},
   "outputs": [
    {
     "name": "stdout",
     "output_type": "stream",
     "text": [
      "('Bookings',)\n",
      "('CustomerDetails',)\n",
      "('MenuItems',)\n",
      "('Menus',)\n",
      "('OrderDeliveryStatus',)\n",
      "('Orders',)\n",
      "('OrdersView',)\n",
      "('Staff',)\n"
     ]
    }
   ],
   "source": [
    "for table in results:\n",
    "    print(table)"
   ]
  },
  {
   "cell_type": "code",
   "execution_count": 12,
   "id": "8ffe4ab7",
   "metadata": {},
   "outputs": [],
   "source": [
    "sql_query = \"\"\"SELECT cd.FullName, cd.ContactNumber, cd.Email, o.TotalCost\n",
    "FROM LittleLemonDB.Orders AS o\n",
    "INNER JOIN LittleLemonDB.CustomerDetails AS cd\n",
    "ON o.CustomerID = cd.CustomerID\n",
    "WHERE o.TotalCost > 60;\"\"\"\n",
    "cursor.execute(sql_query)"
   ]
  },
  {
   "cell_type": "code",
   "execution_count": 13,
   "id": "1f1a806c",
   "metadata": {},
   "outputs": [],
   "source": [
    "results = cursor.fetchall()"
   ]
  },
  {
   "cell_type": "code",
   "execution_count": 14,
   "id": "dab1abb4",
   "metadata": {},
   "outputs": [
    {
     "name": "stdout",
     "output_type": "stream",
     "text": [
      "('Customer1', 'Contact1', 'xxx@xxx.xxx', Decimal('333.00'))\n"
     ]
    }
   ],
   "source": [
    "for result in results:\n",
    "    print(result)"
   ]
  }
 ],
 "metadata": {
  "kernelspec": {
   "display_name": "Python 3 (ipykernel)",
   "language": "python",
   "name": "python3"
  },
  "language_info": {
   "codemirror_mode": {
    "name": "ipython",
    "version": 3
   },
   "file_extension": ".py",
   "mimetype": "text/x-python",
   "name": "python",
   "nbconvert_exporter": "python",
   "pygments_lexer": "ipython3",
   "version": "3.10.6"
  }
 },
 "nbformat": 4,
 "nbformat_minor": 5
}
